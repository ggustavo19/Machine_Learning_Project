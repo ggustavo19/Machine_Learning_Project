{
 "cells": [
  {
   "cell_type": "code",
   "execution_count": 11,
   "metadata": {},
   "outputs": [],
   "source": [
    "# Dependencies\n",
    "import pandas as pd"
   ]
  },
  {
   "cell_type": "markdown",
   "metadata": {},
   "source": [
    "## Data Extraction"
   ]
  },
  {
   "cell_type": "code",
   "execution_count": 12,
   "metadata": {},
   "outputs": [],
   "source": [
    "## Data Selection: Reference column Metadata provided with csv files. Explored the data and selected the following columns to work with.\n",
    "DP03_columns= ['GEO_ID','NAME', 'DP03_0001E', 'DP03_0004E', 'DP03_0062E', 'DP03_0088E', \n",
    "               'DP03_0009PE', 'DP03_0027PE', 'DP03_0028PE', 'DP03_0029PE', 'DP03_0030PE',\n",
    "               'DP03_0031PE', 'DP03_0047PE', 'DP03_0048PE', 'DP03_0049PE', 'DP03_0050PE', \n",
    "               'DP03_0128PE', 'DP03_0129PE']\n",
    "DP02_columns=['GEO_ID', 'NAME', 'DP02_0059PE', 'DP02_0060PE', 'DP02_0061PE', 'DP02_0062PE',\n",
    "              'DP02_0063PE', 'DP02_0064PE', 'DP02_0065PE']\n",
    "DP04_columns=['GEO_ID', 'NAME', 'DP04_0089E', 'DP04_0101E', 'DP04_0134E']\n",
    "DP05_columns=['GEO_ID', 'NAME', 'DP05_0001E', 'DP05_0037PE', 'DP05_0038PE', 'DP05_0039PE',\n",
    "              'DP05_0044PE', 'DP05_0052PE', 'DP05_0071PE']"
   ]
  },
  {
   "cell_type": "code",
   "execution_count": null,
   "metadata": {},
   "outputs": [],
   "source": [
    "# Function to read CSV and select specified columns\n",
    "# Using usecols to make it more efficient since we only need these\n",
    "# DP02_18_Clean = DP02_18[DP02_columns] would be the approach if we wanted to read the entire csv\n",
    "\n",
    "# DP02_18= pd.read_csv('DP02_Education/2018.DP02-Data.csv', usecols= DP02_columns)\n",
    "# DP02_19= pd.read_csv('DP02_Education/2019.DP02-Data.csv', usecols= DP02_columns)\n",
    "# DP02_20= pd.read_csv('DP02_Education/2020.DP02-Data.csv', usecols= DP02_columns)\n",
    "# DP02_21= pd.read_csv('DP02_Education/2021.DP02-Data.csv', usecols= DP02_columns)\n",
    "# DP02_22= pd.read_csv('DP02_Education/2022.DP02-Data.csv', usecols= DP02_columns)\n",
    "\n",
    "# DP03_18 = pd.read_csv('DP03_Economic/2018.DP03-Data.csv', usecols= DP03_columns)\n",
    "# DP03_19 = pd.read_csv('DP03_Economic/2019.DP03-Data.csv', usecols= DP03_columns)\n",
    "# DP03_20 = pd.read_csv('DP03_Economic/2020.DP03-Data.csv', usecols= DP03_columns)\n",
    "# DP03_21 = pd.read_csv('DP03_Economic/2021.DP03-Data.csv', usecols= DP03_columns)\n",
    "# DP03_22 = pd.read_csv('DP03_Economic/2022.DP03-Data.csv', usecols= DP03_columns)\n",
    "\n",
    "# DP04_18= pd.read_csv('DP04_Housing/2018.DP04-Data.csv', usecols= DP04_columns)\n",
    "# DP04_19= pd.read_csv('DP04_Housing/2019.DP04-Data.csv', usecols= DP04_columns)\n",
    "# DP04_20= pd.read_csv('DP04_Housing/2020.DP04-Data.csv', usecols= DP04_columns)\n",
    "# DP04_21= pd.read_csv('DP04_Housing/2021.DP04-Data.csv', usecols= DP04_columns)\n",
    "# DP04_22= pd.read_csv('DP04_Housing/2022.DP04-Data.csv', usecols= DP04_columns)\n",
    "\n",
    "# DP05_18= pd.read_csv('DP05_Demographic/2018.DP05-Data.csv', usecols= DP05_columns)\n",
    "# DP05_19= pd.read_csv('DP05_Demographic/2019.DP05-Data.csv', usecols= DP05_columns)\n",
    "# DP05_20= pd.read_csv('DP05_Demographic/2020.DP05-Data.csv', usecols= DP05_columns)\n",
    "# DP05_21= pd.read_csv('DP05_Demographic/2021.DP05-Data.csv', usecols= DP05_columns)\n",
    "# DP05_22= pd.read_csv('DP05_Demographic/2022.DP05-Data.csv', usecols= DP05_columns)"
   ]
  },
  {
   "cell_type": "code",
   "execution_count": 13,
   "metadata": {},
   "outputs": [
    {
     "name": "stderr",
     "output_type": "stream",
     "text": [
      "/var/folders/p1/sd0bq34d5xx6bcr_yjx4qcc40000gn/T/ipykernel_41270/2874286169.py:6: DtypeWarning: Columns (422,424,426,428,430,432,434) have mixed types. Specify dtype option on import or set low_memory=False.\n",
      "  DP02 = pd.read_csv(f'DP02_Education/{year}.DP02-Data.csv', usecols= DP02_columns)\n",
      "/var/folders/p1/sd0bq34d5xx6bcr_yjx4qcc40000gn/T/ipykernel_41270/2874286169.py:7: DtypeWarning: Columns (2,8,124,176,292,328,330,332,334,336,368,370,372,374,530,532) have mixed types. Specify dtype option on import or set low_memory=False.\n",
      "  DP03 = pd.read_csv(f'DP03_Economic/{year}.DP03-Data.csv', usecols= DP03_columns)\n",
      "/var/folders/p1/sd0bq34d5xx6bcr_yjx4qcc40000gn/T/ipykernel_41270/2874286169.py:8: DtypeWarning: Columns (178,202,268) have mixed types. Specify dtype option on import or set low_memory=False.\n",
      "  DP04 = pd.read_csv(f'DP04_Housing/{year}.DP04-Data.csv', usecols= DP04_columns)\n",
      "/var/folders/p1/sd0bq34d5xx6bcr_yjx4qcc40000gn/T/ipykernel_41270/2874286169.py:9: DtypeWarning: Columns (2,252,254,256,266,282,320) have mixed types. Specify dtype option on import or set low_memory=False.\n",
      "  DP05 = pd.read_csv(f'DP05_Demographic/{year}.DP05-Data.csv', usecols= DP05_columns)\n",
      "/var/folders/p1/sd0bq34d5xx6bcr_yjx4qcc40000gn/T/ipykernel_41270/2874286169.py:6: DtypeWarning: Columns (424,426,428,430,432,434,436) have mixed types. Specify dtype option on import or set low_memory=False.\n",
      "  DP02 = pd.read_csv(f'DP02_Education/{year}.DP02-Data.csv', usecols= DP02_columns)\n"
     ]
    },
    {
     "name": "stdout",
     "output_type": "stream",
     "text": [
      "Saved Merged_2018_Data.csv\n"
     ]
    },
    {
     "name": "stderr",
     "output_type": "stream",
     "text": [
      "/var/folders/p1/sd0bq34d5xx6bcr_yjx4qcc40000gn/T/ipykernel_41270/2874286169.py:7: DtypeWarning: Columns (2,8,124,176,292,328,330,332,334,336,368,370,372,374,530,532) have mixed types. Specify dtype option on import or set low_memory=False.\n",
      "  DP03 = pd.read_csv(f'DP03_Economic/{year}.DP03-Data.csv', usecols= DP03_columns)\n",
      "/var/folders/p1/sd0bq34d5xx6bcr_yjx4qcc40000gn/T/ipykernel_41270/2874286169.py:8: DtypeWarning: Columns (178,202,268) have mixed types. Specify dtype option on import or set low_memory=False.\n",
      "  DP04 = pd.read_csv(f'DP04_Housing/{year}.DP04-Data.csv', usecols= DP04_columns)\n",
      "/var/folders/p1/sd0bq34d5xx6bcr_yjx4qcc40000gn/T/ipykernel_41270/2874286169.py:9: DtypeWarning: Columns (2,252,254,256,266,282,320) have mixed types. Specify dtype option on import or set low_memory=False.\n",
      "  DP05 = pd.read_csv(f'DP05_Demographic/{year}.DP05-Data.csv', usecols= DP05_columns)\n"
     ]
    },
    {
     "name": "stdout",
     "output_type": "stream",
     "text": [
      "Saved Merged_2019_Data.csv\n"
     ]
    },
    {
     "name": "stderr",
     "output_type": "stream",
     "text": [
      "/var/folders/p1/sd0bq34d5xx6bcr_yjx4qcc40000gn/T/ipykernel_41270/2874286169.py:6: DtypeWarning: Columns (426,428,430,432,434,436,438) have mixed types. Specify dtype option on import or set low_memory=False.\n",
      "  DP02 = pd.read_csv(f'DP02_Education/{year}.DP02-Data.csv', usecols= DP02_columns)\n",
      "/var/folders/p1/sd0bq34d5xx6bcr_yjx4qcc40000gn/T/ipykernel_41270/2874286169.py:7: DtypeWarning: Columns (2,8,124,176,292,328,330,332,334,336,368,370,372,374,530,532) have mixed types. Specify dtype option on import or set low_memory=False.\n",
      "  DP03 = pd.read_csv(f'DP03_Economic/{year}.DP03-Data.csv', usecols= DP03_columns)\n",
      "/var/folders/p1/sd0bq34d5xx6bcr_yjx4qcc40000gn/T/ipykernel_41270/2874286169.py:8: DtypeWarning: Columns (178,202,268) have mixed types. Specify dtype option on import or set low_memory=False.\n",
      "  DP04 = pd.read_csv(f'DP04_Housing/{year}.DP04-Data.csv', usecols= DP04_columns)\n",
      "/var/folders/p1/sd0bq34d5xx6bcr_yjx4qcc40000gn/T/ipykernel_41270/2874286169.py:9: DtypeWarning: Columns (2,252,254,256,266,282,320) have mixed types. Specify dtype option on import or set low_memory=False.\n",
      "  DP05 = pd.read_csv(f'DP05_Demographic/{year}.DP05-Data.csv', usecols= DP05_columns)\n",
      "/var/folders/p1/sd0bq34d5xx6bcr_yjx4qcc40000gn/T/ipykernel_41270/2874286169.py:6: DtypeWarning: Columns (426,428,430,432,434,436,438) have mixed types. Specify dtype option on import or set low_memory=False.\n",
      "  DP02 = pd.read_csv(f'DP02_Education/{year}.DP02-Data.csv', usecols= DP02_columns)\n"
     ]
    },
    {
     "name": "stdout",
     "output_type": "stream",
     "text": [
      "Saved Merged_2020_Data.csv\n"
     ]
    },
    {
     "name": "stderr",
     "output_type": "stream",
     "text": [
      "/var/folders/p1/sd0bq34d5xx6bcr_yjx4qcc40000gn/T/ipykernel_41270/2874286169.py:7: DtypeWarning: Columns (2,8,124,176,292,328,330,332,334,336,368,370,372,374,530,532) have mixed types. Specify dtype option on import or set low_memory=False.\n",
      "  DP03 = pd.read_csv(f'DP03_Economic/{year}.DP03-Data.csv', usecols= DP03_columns)\n",
      "/var/folders/p1/sd0bq34d5xx6bcr_yjx4qcc40000gn/T/ipykernel_41270/2874286169.py:8: DtypeWarning: Columns (178,202,268) have mixed types. Specify dtype option on import or set low_memory=False.\n",
      "  DP04 = pd.read_csv(f'DP04_Housing/{year}.DP04-Data.csv', usecols= DP04_columns)\n",
      "/var/folders/p1/sd0bq34d5xx6bcr_yjx4qcc40000gn/T/ipykernel_41270/2874286169.py:9: DtypeWarning: Columns (2,252,254,256,266,282,320) have mixed types. Specify dtype option on import or set low_memory=False.\n",
      "  DP05 = pd.read_csv(f'DP05_Demographic/{year}.DP05-Data.csv', usecols= DP05_columns)\n"
     ]
    },
    {
     "name": "stdout",
     "output_type": "stream",
     "text": [
      "Saved Merged_2021_Data.csv\n"
     ]
    },
    {
     "name": "stderr",
     "output_type": "stream",
     "text": [
      "/var/folders/p1/sd0bq34d5xx6bcr_yjx4qcc40000gn/T/ipykernel_41270/2874286169.py:6: DtypeWarning: Columns (426,428,430,432,434,436,438) have mixed types. Specify dtype option on import or set low_memory=False.\n",
      "  DP02 = pd.read_csv(f'DP02_Education/{year}.DP02-Data.csv', usecols= DP02_columns)\n",
      "/var/folders/p1/sd0bq34d5xx6bcr_yjx4qcc40000gn/T/ipykernel_41270/2874286169.py:7: DtypeWarning: Columns (2,8,124,176,292,328,330,332,334,336,368,370,372,374,530,532) have mixed types. Specify dtype option on import or set low_memory=False.\n",
      "  DP03 = pd.read_csv(f'DP03_Economic/{year}.DP03-Data.csv', usecols= DP03_columns)\n",
      "/var/folders/p1/sd0bq34d5xx6bcr_yjx4qcc40000gn/T/ipykernel_41270/2874286169.py:8: DtypeWarning: Columns (178,202,268) have mixed types. Specify dtype option on import or set low_memory=False.\n",
      "  DP04 = pd.read_csv(f'DP04_Housing/{year}.DP04-Data.csv', usecols= DP04_columns)\n"
     ]
    },
    {
     "name": "stdout",
     "output_type": "stream",
     "text": [
      "Saved Merged_2022_Data.csv\n"
     ]
    },
    {
     "name": "stderr",
     "output_type": "stream",
     "text": [
      "/var/folders/p1/sd0bq34d5xx6bcr_yjx4qcc40000gn/T/ipykernel_41270/2874286169.py:9: DtypeWarning: Columns (2,256,258,260,270,286,324) have mixed types. Specify dtype option on import or set low_memory=False.\n",
      "  DP05 = pd.read_csv(f'DP05_Demographic/{year}.DP05-Data.csv', usecols= DP05_columns)\n"
     ]
    }
   ],
   "source": [
    "# years of data pulled\n",
    "years = ['2018', '2019', '2020', '2021', '2022']\n",
    "\n",
    "# Loop through each year, read the data (Copied from above w/ selected columns)\n",
    "for year in years:\n",
    "    DP02 = pd.read_csv(f'DP02_Education/{year}.DP02-Data.csv', usecols= DP02_columns)\n",
    "    DP03 = pd.read_csv(f'DP03_Economic/{year}.DP03-Data.csv', usecols= DP03_columns)\n",
    "    DP04 = pd.read_csv(f'DP04_Housing/{year}.DP04-Data.csv', usecols= DP04_columns)\n",
    "    DP05 = pd.read_csv(f'DP05_Demographic/{year}.DP05-Data.csv', usecols= DP05_columns)\n",
    "    \n",
    "    # Merge the dataframes on 'GEO_ID' column\n",
    "    merged_df = DP02.merge(DP03, on=['GEO_ID', 'NAME'])\\\n",
    "                    .merge(DP04, on=['GEO_ID', 'NAME'])\\\n",
    "                    .merge(DP05, on=['GEO_ID', 'NAME'])\n",
    "                      \n",
    "    # Save the merged dataframe to a CSV file\n",
    "    merged_df.to_csv(f'Resources/Merged_{year}_Data.csv', index=False)\n",
    "    print(f'Saved Merged_{year}_Data.csv')\n"
   ]
  }
 ],
 "metadata": {
  "kernelspec": {
   "display_name": "dev",
   "language": "python",
   "name": "python3"
  },
  "language_info": {
   "codemirror_mode": {
    "name": "ipython",
    "version": 3
   },
   "file_extension": ".py",
   "mimetype": "text/x-python",
   "name": "python",
   "nbconvert_exporter": "python",
   "pygments_lexer": "ipython3",
   "version": "3.10.13"
  }
 },
 "nbformat": 4,
 "nbformat_minor": 2
}
