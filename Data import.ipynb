{
 "cells": [
  {
   "cell_type": "code",
   "execution_count": 1,
   "metadata": {},
   "outputs": [],
   "source": [
    "import pandas as pd"
   ]
  },
  {
   "cell_type": "code",
   "execution_count": null,
   "metadata": {},
   "outputs": [],
   "source": [
    "df1 = pd.read.csv('/Raw Data/ACSDP5Y2018.DP03-Data.csv')\n",
    "df2 = pd.read.csv('Machine_Learning_Project/Raw Data/ACSDP5Y2019.DP03-Data.csv')\n",
    "df3 = pd.read_csv('Machine_Learning_Project/Raw Data/ACSDP5Y2020.DP03-Data.csv')\n",
    "df4 = pd.read_csv('Machine_Learning_Project/Raw Data/ACSDP5Y2021.DP03-Data.csv')\n",
    "df5 = pd.read_csv('Machine_Learning_Project/Raw Data/ACSDP5Y2022.DP03-Data.csv')"
   ]
  }
 ],
 "metadata": {
  "kernelspec": {
   "display_name": "dev",
   "language": "python",
   "name": "python3"
  },
  "language_info": {
   "codemirror_mode": {
    "name": "ipython",
    "version": 3
   },
   "file_extension": ".py",
   "mimetype": "text/x-python",
   "name": "python",
   "nbconvert_exporter": "python",
   "pygments_lexer": "ipython3",
   "version": "3.10.13"
  }
 },
 "nbformat": 4,
 "nbformat_minor": 2
}
