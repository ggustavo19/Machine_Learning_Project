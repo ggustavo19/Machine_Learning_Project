{
 "cells": [
  {
   "cell_type": "markdown",
   "metadata": {},
   "source": [
    "## Prepare Data"
   ]
  },
  {
   "cell_type": "code",
   "execution_count": 63,
   "metadata": {},
   "outputs": [],
   "source": [
    "#!pip install keras-tuner\n",
    "\n",
    "# Import our dependencies\n",
    "import pandas as pd\n",
    "import matplotlib.pyplot as plt\n",
    "import sklearn as skl\n",
    "import tensorflow as tf\n",
    "from sklearn.model_selection import train_test_split\n",
    "from sklearn.preprocessing import StandardScaler, OneHotEncoder"
   ]
  },
  {
   "cell_type": "code",
   "execution_count": 64,
   "metadata": {},
   "outputs": [],
   "source": [
    "#read the csv\n",
    "ML_Data= pd.read_csv('Data/Five_Year_Data.csv')"
   ]
  },
  {
   "cell_type": "code",
   "execution_count": 65,
   "metadata": {},
   "outputs": [
    {
     "data": {
      "text/plain": [
       "Index(['GEO_ID', 'Below_9th_grade', '9_12th_grade', 'High_School_Grad',\n",
       "       'Some_College', 'Associate's_degree', 'Bachelor's_degree',\n",
       "       'Graduate_degree', 'Population (16+)', 'Employed',\n",
       "       'Median Household Income', 'Per capita Income', 'Unemployment Rate',\n",
       "       'Professional (Occupation)', 'Service (Occupation)',\n",
       "       'Sales (Occupation)', 'Construction (Occupation)',\n",
       "       'Production (Occupation)', 'Salary (Class)', 'Gov't (Class)',\n",
       "       'Self-employed (Class)', 'Fam-unpaid (Class)', 'Poverty',\n",
       "       'Child-poverty', 'Median Home value', 'Median Mortgage', 'Median Rent',\n",
       "       'Total Population', 'White', 'Black', 'American Indian', 'Asian',\n",
       "       'Pacific Islander', 'Hispanic/Latino', 'County', 'State', 'Year'],\n",
       "      dtype='object')"
      ]
     },
     "execution_count": 65,
     "metadata": {},
     "output_type": "execute_result"
    }
   ],
   "source": [
    "ML_Data.columns"
   ]
  },
  {
   "cell_type": "code",
   "execution_count": 66,
   "metadata": {},
   "outputs": [
    {
     "data": {
      "text/html": [
       "<div>\n",
       "<style scoped>\n",
       "    .dataframe tbody tr th:only-of-type {\n",
       "        vertical-align: middle;\n",
       "    }\n",
       "\n",
       "    .dataframe tbody tr th {\n",
       "        vertical-align: top;\n",
       "    }\n",
       "\n",
       "    .dataframe thead th {\n",
       "        text-align: right;\n",
       "    }\n",
       "</style>\n",
       "<table border=\"1\" class=\"dataframe\">\n",
       "  <thead>\n",
       "    <tr style=\"text-align: right;\">\n",
       "      <th></th>\n",
       "      <th>Below_9th_grade</th>\n",
       "      <th>9_12th_grade</th>\n",
       "      <th>High_School_Grad</th>\n",
       "      <th>Some_College</th>\n",
       "      <th>Associate's_degree</th>\n",
       "      <th>Bachelor's_degree</th>\n",
       "      <th>Graduate_degree</th>\n",
       "      <th>Population (16+)</th>\n",
       "      <th>Unemployment Rate</th>\n",
       "      <th>Total Population</th>\n",
       "      <th>White</th>\n",
       "      <th>Black</th>\n",
       "      <th>American Indian</th>\n",
       "      <th>Asian</th>\n",
       "      <th>Pacific Islander</th>\n",
       "      <th>Hispanic/Latino</th>\n",
       "      <th>State</th>\n",
       "      <th>Year</th>\n",
       "    </tr>\n",
       "  </thead>\n",
       "  <tbody>\n",
       "    <tr>\n",
       "      <th>0</th>\n",
       "      <td>2.6</td>\n",
       "      <td>8.7</td>\n",
       "      <td>32.6</td>\n",
       "      <td>20.3</td>\n",
       "      <td>8.1</td>\n",
       "      <td>15.9</td>\n",
       "      <td>11.8</td>\n",
       "      <td>43368.0</td>\n",
       "      <td>4.2</td>\n",
       "      <td>55200</td>\n",
       "      <td>76.9</td>\n",
       "      <td>19.1</td>\n",
       "      <td>0.3</td>\n",
       "      <td>1.0</td>\n",
       "      <td>0.1</td>\n",
       "      <td>2.8</td>\n",
       "      <td>Alabama</td>\n",
       "      <td>2018</td>\n",
       "    </tr>\n",
       "    <tr>\n",
       "      <th>1</th>\n",
       "      <td>2.7</td>\n",
       "      <td>7.0</td>\n",
       "      <td>27.6</td>\n",
       "      <td>22.0</td>\n",
       "      <td>9.4</td>\n",
       "      <td>20.7</td>\n",
       "      <td>10.6</td>\n",
       "      <td>167712.0</td>\n",
       "      <td>4.4</td>\n",
       "      <td>208107</td>\n",
       "      <td>86.3</td>\n",
       "      <td>9.5</td>\n",
       "      <td>0.7</td>\n",
       "      <td>0.8</td>\n",
       "      <td>0.0</td>\n",
       "      <td>4.5</td>\n",
       "      <td>Alabama</td>\n",
       "      <td>2018</td>\n",
       "    </tr>\n",
       "    <tr>\n",
       "      <th>2</th>\n",
       "      <td>8.2</td>\n",
       "      <td>18.8</td>\n",
       "      <td>35.7</td>\n",
       "      <td>18.1</td>\n",
       "      <td>7.0</td>\n",
       "      <td>7.8</td>\n",
       "      <td>4.4</td>\n",
       "      <td>20948.0</td>\n",
       "      <td>9.5</td>\n",
       "      <td>25782</td>\n",
       "      <td>47.4</td>\n",
       "      <td>47.6</td>\n",
       "      <td>0.3</td>\n",
       "      <td>0.4</td>\n",
       "      <td>0.0</td>\n",
       "      <td>4.3</td>\n",
       "      <td>Alabama</td>\n",
       "      <td>2018</td>\n",
       "    </tr>\n",
       "    <tr>\n",
       "      <th>3</th>\n",
       "      <td>5.7</td>\n",
       "      <td>11.1</td>\n",
       "      <td>47.3</td>\n",
       "      <td>18.6</td>\n",
       "      <td>5.8</td>\n",
       "      <td>7.6</td>\n",
       "      <td>3.9</td>\n",
       "      <td>18470.0</td>\n",
       "      <td>7.5</td>\n",
       "      <td>22527</td>\n",
       "      <td>76.7</td>\n",
       "      <td>22.3</td>\n",
       "      <td>0.0</td>\n",
       "      <td>0.2</td>\n",
       "      <td>0.0</td>\n",
       "      <td>2.4</td>\n",
       "      <td>Alabama</td>\n",
       "      <td>2018</td>\n",
       "    </tr>\n",
       "    <tr>\n",
       "      <th>4</th>\n",
       "      <td>7.5</td>\n",
       "      <td>12.4</td>\n",
       "      <td>34.0</td>\n",
       "      <td>21.4</td>\n",
       "      <td>12.0</td>\n",
       "      <td>8.1</td>\n",
       "      <td>4.5</td>\n",
       "      <td>45915.0</td>\n",
       "      <td>4.1</td>\n",
       "      <td>57645</td>\n",
       "      <td>95.5</td>\n",
       "      <td>1.5</td>\n",
       "      <td>0.2</td>\n",
       "      <td>0.3</td>\n",
       "      <td>0.0</td>\n",
       "      <td>9.1</td>\n",
       "      <td>Alabama</td>\n",
       "      <td>2018</td>\n",
       "    </tr>\n",
       "  </tbody>\n",
       "</table>\n",
       "</div>"
      ],
      "text/plain": [
       "   Below_9th_grade  9_12th_grade  High_School_Grad  Some_College   \n",
       "0              2.6           8.7              32.6          20.3  \\\n",
       "1              2.7           7.0              27.6          22.0   \n",
       "2              8.2          18.8              35.7          18.1   \n",
       "3              5.7          11.1              47.3          18.6   \n",
       "4              7.5          12.4              34.0          21.4   \n",
       "\n",
       "   Associate's_degree  Bachelor's_degree  Graduate_degree  Population (16+)   \n",
       "0                 8.1               15.9             11.8           43368.0  \\\n",
       "1                 9.4               20.7             10.6          167712.0   \n",
       "2                 7.0                7.8              4.4           20948.0   \n",
       "3                 5.8                7.6              3.9           18470.0   \n",
       "4                12.0                8.1              4.5           45915.0   \n",
       "\n",
       "   Unemployment Rate  Total Population  White  Black  American Indian  Asian   \n",
       "0                4.2             55200   76.9   19.1              0.3    1.0  \\\n",
       "1                4.4            208107   86.3    9.5              0.7    0.8   \n",
       "2                9.5             25782   47.4   47.6              0.3    0.4   \n",
       "3                7.5             22527   76.7   22.3              0.0    0.2   \n",
       "4                4.1             57645   95.5    1.5              0.2    0.3   \n",
       "\n",
       "   Pacific Islander  Hispanic/Latino    State  Year  \n",
       "0               0.1              2.8  Alabama  2018  \n",
       "1               0.0              4.5  Alabama  2018  \n",
       "2               0.0              4.3  Alabama  2018  \n",
       "3               0.0              2.4  Alabama  2018  \n",
       "4               0.0              9.1  Alabama  2018  "
      ]
     },
     "execution_count": 66,
     "metadata": {},
     "output_type": "execute_result"
    }
   ],
   "source": [
    "#Unemployment model: Educational background and demographic features\n",
    "Unemployment_data= ML_Data[['Below_9th_grade', '9_12th_grade', 'High_School_Grad',\n",
    "       'Some_College', \"Associate's_degree\", \"Bachelor's_degree\",\n",
    "       'Graduate_degree', 'Population (16+)','Unemployment Rate','Total Population', 'White', 'Black', 'American Indian', 'Asian',\n",
    "       'Pacific Islander', 'Hispanic/Latino', 'State', 'Year' ]]\n",
    "Unemployment_data.head()"
   ]
  },
  {
   "cell_type": "markdown",
   "metadata": {},
   "source": [
    "## One Hot Encoder\n",
    "taking care of categorical data (non-numerical)"
   ]
  },
  {
   "cell_type": "code",
   "execution_count": 67,
   "metadata": {},
   "outputs": [
    {
     "data": {
      "text/plain": [
       "Below_9th_grade       float64\n",
       "9_12th_grade          float64\n",
       "High_School_Grad      float64\n",
       "Some_College          float64\n",
       "Associate's_degree    float64\n",
       "Bachelor's_degree     float64\n",
       "Graduate_degree       float64\n",
       "Population (16+)      float64\n",
       "Unemployment Rate     float64\n",
       "Total Population        int64\n",
       "White                 float64\n",
       "Black                 float64\n",
       "American Indian       float64\n",
       "Asian                 float64\n",
       "Pacific Islander      float64\n",
       "Hispanic/Latino       float64\n",
       "State                  object\n",
       "Year                    int64\n",
       "dtype: object"
      ]
     },
     "execution_count": 67,
     "metadata": {},
     "output_type": "execute_result"
    }
   ],
   "source": [
    "Unemployment_data.dtypes"
   ]
  },
  {
   "cell_type": "code",
   "execution_count": 68,
   "metadata": {},
   "outputs": [],
   "source": [
    "# Generate our categorical variable lists. #checks for all cetegories that are objects\n",
    "state_cat = Unemployment_data.dtypes[Unemployment_data.dtypes == \"object\"].index.tolist()"
   ]
  },
  {
   "cell_type": "code",
   "execution_count": 69,
   "metadata": {},
   "outputs": [
    {
     "data": {
      "text/plain": [
       "State    51\n",
       "dtype: int64"
      ]
     },
     "execution_count": 69,
     "metadata": {},
     "output_type": "execute_result"
    }
   ],
   "source": [
    "# Check the number of unique values in each column\n",
    "Unemployment_data[state_cat].nunique()"
   ]
  },
  {
   "cell_type": "code",
   "execution_count": 70,
   "metadata": {},
   "outputs": [
    {
     "data": {
      "text/html": [
       "<div>\n",
       "<style scoped>\n",
       "    .dataframe tbody tr th:only-of-type {\n",
       "        vertical-align: middle;\n",
       "    }\n",
       "\n",
       "    .dataframe tbody tr th {\n",
       "        vertical-align: top;\n",
       "    }\n",
       "\n",
       "    .dataframe thead th {\n",
       "        text-align: right;\n",
       "    }\n",
       "</style>\n",
       "<table border=\"1\" class=\"dataframe\">\n",
       "  <thead>\n",
       "    <tr style=\"text-align: right;\">\n",
       "      <th></th>\n",
       "      <th>State_Alabama</th>\n",
       "      <th>State_Alaska</th>\n",
       "      <th>State_Arizona</th>\n",
       "      <th>State_Arkansas</th>\n",
       "      <th>State_California</th>\n",
       "      <th>State_Colorado</th>\n",
       "      <th>State_Connecticut</th>\n",
       "      <th>State_Delaware</th>\n",
       "      <th>State_District of Columbia</th>\n",
       "      <th>State_Florida</th>\n",
       "      <th>...</th>\n",
       "      <th>State_South Dakota</th>\n",
       "      <th>State_Tennessee</th>\n",
       "      <th>State_Texas</th>\n",
       "      <th>State_Utah</th>\n",
       "      <th>State_Vermont</th>\n",
       "      <th>State_Virginia</th>\n",
       "      <th>State_Washington</th>\n",
       "      <th>State_West Virginia</th>\n",
       "      <th>State_Wisconsin</th>\n",
       "      <th>State_Wyoming</th>\n",
       "    </tr>\n",
       "  </thead>\n",
       "  <tbody>\n",
       "    <tr>\n",
       "      <th>0</th>\n",
       "      <td>1.0</td>\n",
       "      <td>0.0</td>\n",
       "      <td>0.0</td>\n",
       "      <td>0.0</td>\n",
       "      <td>0.0</td>\n",
       "      <td>0.0</td>\n",
       "      <td>0.0</td>\n",
       "      <td>0.0</td>\n",
       "      <td>0.0</td>\n",
       "      <td>0.0</td>\n",
       "      <td>...</td>\n",
       "      <td>0.0</td>\n",
       "      <td>0.0</td>\n",
       "      <td>0.0</td>\n",
       "      <td>0.0</td>\n",
       "      <td>0.0</td>\n",
       "      <td>0.0</td>\n",
       "      <td>0.0</td>\n",
       "      <td>0.0</td>\n",
       "      <td>0.0</td>\n",
       "      <td>0.0</td>\n",
       "    </tr>\n",
       "    <tr>\n",
       "      <th>1</th>\n",
       "      <td>1.0</td>\n",
       "      <td>0.0</td>\n",
       "      <td>0.0</td>\n",
       "      <td>0.0</td>\n",
       "      <td>0.0</td>\n",
       "      <td>0.0</td>\n",
       "      <td>0.0</td>\n",
       "      <td>0.0</td>\n",
       "      <td>0.0</td>\n",
       "      <td>0.0</td>\n",
       "      <td>...</td>\n",
       "      <td>0.0</td>\n",
       "      <td>0.0</td>\n",
       "      <td>0.0</td>\n",
       "      <td>0.0</td>\n",
       "      <td>0.0</td>\n",
       "      <td>0.0</td>\n",
       "      <td>0.0</td>\n",
       "      <td>0.0</td>\n",
       "      <td>0.0</td>\n",
       "      <td>0.0</td>\n",
       "    </tr>\n",
       "    <tr>\n",
       "      <th>2</th>\n",
       "      <td>1.0</td>\n",
       "      <td>0.0</td>\n",
       "      <td>0.0</td>\n",
       "      <td>0.0</td>\n",
       "      <td>0.0</td>\n",
       "      <td>0.0</td>\n",
       "      <td>0.0</td>\n",
       "      <td>0.0</td>\n",
       "      <td>0.0</td>\n",
       "      <td>0.0</td>\n",
       "      <td>...</td>\n",
       "      <td>0.0</td>\n",
       "      <td>0.0</td>\n",
       "      <td>0.0</td>\n",
       "      <td>0.0</td>\n",
       "      <td>0.0</td>\n",
       "      <td>0.0</td>\n",
       "      <td>0.0</td>\n",
       "      <td>0.0</td>\n",
       "      <td>0.0</td>\n",
       "      <td>0.0</td>\n",
       "    </tr>\n",
       "    <tr>\n",
       "      <th>3</th>\n",
       "      <td>1.0</td>\n",
       "      <td>0.0</td>\n",
       "      <td>0.0</td>\n",
       "      <td>0.0</td>\n",
       "      <td>0.0</td>\n",
       "      <td>0.0</td>\n",
       "      <td>0.0</td>\n",
       "      <td>0.0</td>\n",
       "      <td>0.0</td>\n",
       "      <td>0.0</td>\n",
       "      <td>...</td>\n",
       "      <td>0.0</td>\n",
       "      <td>0.0</td>\n",
       "      <td>0.0</td>\n",
       "      <td>0.0</td>\n",
       "      <td>0.0</td>\n",
       "      <td>0.0</td>\n",
       "      <td>0.0</td>\n",
       "      <td>0.0</td>\n",
       "      <td>0.0</td>\n",
       "      <td>0.0</td>\n",
       "    </tr>\n",
       "    <tr>\n",
       "      <th>4</th>\n",
       "      <td>1.0</td>\n",
       "      <td>0.0</td>\n",
       "      <td>0.0</td>\n",
       "      <td>0.0</td>\n",
       "      <td>0.0</td>\n",
       "      <td>0.0</td>\n",
       "      <td>0.0</td>\n",
       "      <td>0.0</td>\n",
       "      <td>0.0</td>\n",
       "      <td>0.0</td>\n",
       "      <td>...</td>\n",
       "      <td>0.0</td>\n",
       "      <td>0.0</td>\n",
       "      <td>0.0</td>\n",
       "      <td>0.0</td>\n",
       "      <td>0.0</td>\n",
       "      <td>0.0</td>\n",
       "      <td>0.0</td>\n",
       "      <td>0.0</td>\n",
       "      <td>0.0</td>\n",
       "      <td>0.0</td>\n",
       "    </tr>\n",
       "  </tbody>\n",
       "</table>\n",
       "<p>5 rows × 51 columns</p>\n",
       "</div>"
      ],
      "text/plain": [
       "   State_Alabama  State_Alaska  State_Arizona  State_Arkansas   \n",
       "0            1.0           0.0            0.0             0.0  \\\n",
       "1            1.0           0.0            0.0             0.0   \n",
       "2            1.0           0.0            0.0             0.0   \n",
       "3            1.0           0.0            0.0             0.0   \n",
       "4            1.0           0.0            0.0             0.0   \n",
       "\n",
       "   State_California  State_Colorado  State_Connecticut  State_Delaware   \n",
       "0               0.0             0.0                0.0             0.0  \\\n",
       "1               0.0             0.0                0.0             0.0   \n",
       "2               0.0             0.0                0.0             0.0   \n",
       "3               0.0             0.0                0.0             0.0   \n",
       "4               0.0             0.0                0.0             0.0   \n",
       "\n",
       "   State_District of Columbia  State_Florida  ...  State_South Dakota   \n",
       "0                         0.0            0.0  ...                 0.0  \\\n",
       "1                         0.0            0.0  ...                 0.0   \n",
       "2                         0.0            0.0  ...                 0.0   \n",
       "3                         0.0            0.0  ...                 0.0   \n",
       "4                         0.0            0.0  ...                 0.0   \n",
       "\n",
       "   State_Tennessee  State_Texas  State_Utah  State_Vermont  State_Virginia   \n",
       "0              0.0          0.0         0.0            0.0             0.0  \\\n",
       "1              0.0          0.0         0.0            0.0             0.0   \n",
       "2              0.0          0.0         0.0            0.0             0.0   \n",
       "3              0.0          0.0         0.0            0.0             0.0   \n",
       "4              0.0          0.0         0.0            0.0             0.0   \n",
       "\n",
       "   State_Washington  State_West Virginia  State_Wisconsin  State_Wyoming  \n",
       "0               0.0                  0.0              0.0            0.0  \n",
       "1               0.0                  0.0              0.0            0.0  \n",
       "2               0.0                  0.0              0.0            0.0  \n",
       "3               0.0                  0.0              0.0            0.0  \n",
       "4               0.0                  0.0              0.0            0.0  \n",
       "\n",
       "[5 rows x 51 columns]"
      ]
     },
     "execution_count": 70,
     "metadata": {},
     "output_type": "execute_result"
    }
   ],
   "source": [
    "# Create a OneHotEncoder instance\n",
    "enc = OneHotEncoder(sparse_output=False)\n",
    "# Fit and transform the OneHotEncoder using the categorical variable list\n",
    "encode_df = pd.DataFrame(enc.fit_transform(Unemployment_data[state_cat]))\n",
    "# Add the encoded variable names to the dataframe\n",
    "encode_df.columns = enc.get_feature_names_out(state_cat)\n",
    "encode_df.head()"
   ]
  },
  {
   "cell_type": "code",
   "execution_count": 71,
   "metadata": {},
   "outputs": [
    {
     "data": {
      "text/html": [
       "<div>\n",
       "<style scoped>\n",
       "    .dataframe tbody tr th:only-of-type {\n",
       "        vertical-align: middle;\n",
       "    }\n",
       "\n",
       "    .dataframe tbody tr th {\n",
       "        vertical-align: top;\n",
       "    }\n",
       "\n",
       "    .dataframe thead th {\n",
       "        text-align: right;\n",
       "    }\n",
       "</style>\n",
       "<table border=\"1\" class=\"dataframe\">\n",
       "  <thead>\n",
       "    <tr style=\"text-align: right;\">\n",
       "      <th></th>\n",
       "      <th>Below_9th_grade</th>\n",
       "      <th>9_12th_grade</th>\n",
       "      <th>High_School_Grad</th>\n",
       "      <th>Some_College</th>\n",
       "      <th>Associate's_degree</th>\n",
       "      <th>Bachelor's_degree</th>\n",
       "      <th>Graduate_degree</th>\n",
       "      <th>Population (16+)</th>\n",
       "      <th>Unemployment Rate</th>\n",
       "      <th>Total Population</th>\n",
       "      <th>...</th>\n",
       "      <th>State_South Dakota</th>\n",
       "      <th>State_Tennessee</th>\n",
       "      <th>State_Texas</th>\n",
       "      <th>State_Utah</th>\n",
       "      <th>State_Vermont</th>\n",
       "      <th>State_Virginia</th>\n",
       "      <th>State_Washington</th>\n",
       "      <th>State_West Virginia</th>\n",
       "      <th>State_Wisconsin</th>\n",
       "      <th>State_Wyoming</th>\n",
       "    </tr>\n",
       "  </thead>\n",
       "  <tbody>\n",
       "    <tr>\n",
       "      <th>0</th>\n",
       "      <td>2.6</td>\n",
       "      <td>8.7</td>\n",
       "      <td>32.6</td>\n",
       "      <td>20.3</td>\n",
       "      <td>8.1</td>\n",
       "      <td>15.9</td>\n",
       "      <td>11.8</td>\n",
       "      <td>43368.0</td>\n",
       "      <td>4.2</td>\n",
       "      <td>55200</td>\n",
       "      <td>...</td>\n",
       "      <td>0.0</td>\n",
       "      <td>0.0</td>\n",
       "      <td>0.0</td>\n",
       "      <td>0.0</td>\n",
       "      <td>0.0</td>\n",
       "      <td>0.0</td>\n",
       "      <td>0.0</td>\n",
       "      <td>0.0</td>\n",
       "      <td>0.0</td>\n",
       "      <td>0.0</td>\n",
       "    </tr>\n",
       "    <tr>\n",
       "      <th>1</th>\n",
       "      <td>2.7</td>\n",
       "      <td>7.0</td>\n",
       "      <td>27.6</td>\n",
       "      <td>22.0</td>\n",
       "      <td>9.4</td>\n",
       "      <td>20.7</td>\n",
       "      <td>10.6</td>\n",
       "      <td>167712.0</td>\n",
       "      <td>4.4</td>\n",
       "      <td>208107</td>\n",
       "      <td>...</td>\n",
       "      <td>0.0</td>\n",
       "      <td>0.0</td>\n",
       "      <td>0.0</td>\n",
       "      <td>0.0</td>\n",
       "      <td>0.0</td>\n",
       "      <td>0.0</td>\n",
       "      <td>0.0</td>\n",
       "      <td>0.0</td>\n",
       "      <td>0.0</td>\n",
       "      <td>0.0</td>\n",
       "    </tr>\n",
       "    <tr>\n",
       "      <th>2</th>\n",
       "      <td>8.2</td>\n",
       "      <td>18.8</td>\n",
       "      <td>35.7</td>\n",
       "      <td>18.1</td>\n",
       "      <td>7.0</td>\n",
       "      <td>7.8</td>\n",
       "      <td>4.4</td>\n",
       "      <td>20948.0</td>\n",
       "      <td>9.5</td>\n",
       "      <td>25782</td>\n",
       "      <td>...</td>\n",
       "      <td>0.0</td>\n",
       "      <td>0.0</td>\n",
       "      <td>0.0</td>\n",
       "      <td>0.0</td>\n",
       "      <td>0.0</td>\n",
       "      <td>0.0</td>\n",
       "      <td>0.0</td>\n",
       "      <td>0.0</td>\n",
       "      <td>0.0</td>\n",
       "      <td>0.0</td>\n",
       "    </tr>\n",
       "    <tr>\n",
       "      <th>3</th>\n",
       "      <td>5.7</td>\n",
       "      <td>11.1</td>\n",
       "      <td>47.3</td>\n",
       "      <td>18.6</td>\n",
       "      <td>5.8</td>\n",
       "      <td>7.6</td>\n",
       "      <td>3.9</td>\n",
       "      <td>18470.0</td>\n",
       "      <td>7.5</td>\n",
       "      <td>22527</td>\n",
       "      <td>...</td>\n",
       "      <td>0.0</td>\n",
       "      <td>0.0</td>\n",
       "      <td>0.0</td>\n",
       "      <td>0.0</td>\n",
       "      <td>0.0</td>\n",
       "      <td>0.0</td>\n",
       "      <td>0.0</td>\n",
       "      <td>0.0</td>\n",
       "      <td>0.0</td>\n",
       "      <td>0.0</td>\n",
       "    </tr>\n",
       "    <tr>\n",
       "      <th>4</th>\n",
       "      <td>7.5</td>\n",
       "      <td>12.4</td>\n",
       "      <td>34.0</td>\n",
       "      <td>21.4</td>\n",
       "      <td>12.0</td>\n",
       "      <td>8.1</td>\n",
       "      <td>4.5</td>\n",
       "      <td>45915.0</td>\n",
       "      <td>4.1</td>\n",
       "      <td>57645</td>\n",
       "      <td>...</td>\n",
       "      <td>0.0</td>\n",
       "      <td>0.0</td>\n",
       "      <td>0.0</td>\n",
       "      <td>0.0</td>\n",
       "      <td>0.0</td>\n",
       "      <td>0.0</td>\n",
       "      <td>0.0</td>\n",
       "      <td>0.0</td>\n",
       "      <td>0.0</td>\n",
       "      <td>0.0</td>\n",
       "    </tr>\n",
       "  </tbody>\n",
       "</table>\n",
       "<p>5 rows × 68 columns</p>\n",
       "</div>"
      ],
      "text/plain": [
       "   Below_9th_grade  9_12th_grade  High_School_Grad  Some_College   \n",
       "0              2.6           8.7              32.6          20.3  \\\n",
       "1              2.7           7.0              27.6          22.0   \n",
       "2              8.2          18.8              35.7          18.1   \n",
       "3              5.7          11.1              47.3          18.6   \n",
       "4              7.5          12.4              34.0          21.4   \n",
       "\n",
       "   Associate's_degree  Bachelor's_degree  Graduate_degree  Population (16+)   \n",
       "0                 8.1               15.9             11.8           43368.0  \\\n",
       "1                 9.4               20.7             10.6          167712.0   \n",
       "2                 7.0                7.8              4.4           20948.0   \n",
       "3                 5.8                7.6              3.9           18470.0   \n",
       "4                12.0                8.1              4.5           45915.0   \n",
       "\n",
       "   Unemployment Rate  Total Population  ...  State_South Dakota   \n",
       "0                4.2             55200  ...                 0.0  \\\n",
       "1                4.4            208107  ...                 0.0   \n",
       "2                9.5             25782  ...                 0.0   \n",
       "3                7.5             22527  ...                 0.0   \n",
       "4                4.1             57645  ...                 0.0   \n",
       "\n",
       "   State_Tennessee  State_Texas  State_Utah  State_Vermont  State_Virginia   \n",
       "0              0.0          0.0         0.0            0.0             0.0  \\\n",
       "1              0.0          0.0         0.0            0.0             0.0   \n",
       "2              0.0          0.0         0.0            0.0             0.0   \n",
       "3              0.0          0.0         0.0            0.0             0.0   \n",
       "4              0.0          0.0         0.0            0.0             0.0   \n",
       "\n",
       "   State_Washington  State_West Virginia  State_Wisconsin  State_Wyoming  \n",
       "0               0.0                  0.0              0.0            0.0  \n",
       "1               0.0                  0.0              0.0            0.0  \n",
       "2               0.0                  0.0              0.0            0.0  \n",
       "3               0.0                  0.0              0.0            0.0  \n",
       "4               0.0                  0.0              0.0            0.0  \n",
       "\n",
       "[5 rows x 68 columns]"
      ]
     },
     "execution_count": 71,
     "metadata": {},
     "output_type": "execute_result"
    }
   ],
   "source": [
    "# Merge one-hot encoded features and drop the originals\n",
    "Unemployment_data=Unemployment_data.merge(encode_df,left_index=True, right_index=True)\n",
    "Unemployment_data= Unemployment_data.drop(state_cat, axis=1)\n",
    "Unemployment_data.head()"
   ]
  },
  {
   "cell_type": "markdown",
   "metadata": {},
   "source": [
    "# NN Model"
   ]
  },
  {
   "cell_type": "code",
   "execution_count": 72,
   "metadata": {},
   "outputs": [],
   "source": [
    "# Split target column and Features Columns\n",
    "y = Unemployment_data['Unemployment Rate']\n",
    "X = Unemployment_data.drop(columns='Unemployment Rate')"
   ]
  },
  {
   "cell_type": "code",
   "execution_count": 73,
   "metadata": {},
   "outputs": [],
   "source": [
    "# Use sklearn to split dataset\n",
    "X_train, X_test, y_train, y_test = train_test_split(X, y, random_state=78)"
   ]
  },
  {
   "cell_type": "code",
   "execution_count": 74,
   "metadata": {},
   "outputs": [],
   "source": [
    "# Create scaler instance\n",
    "scaler = StandardScaler()\n",
    "# Fit the Standardscaler\n",
    "scaler.fit(X_train)\n",
    "# Scale the data\n",
    "X_train_scaled = scaler.transform(X_train)\n",
    "X_test_scaled = scaler.transform(X_test)"
   ]
  },
  {
   "cell_type": "code",
   "execution_count": 75,
   "metadata": {},
   "outputs": [
    {
     "data": {
      "text/plain": [
       "67"
      ]
     },
     "execution_count": 75,
     "metadata": {},
     "output_type": "execute_result"
    }
   ],
   "source": [
    "input_dimensions = X_train_scaled.shape[1]\n",
    "input_dimensions"
   ]
  },
  {
   "cell_type": "markdown",
   "metadata": {},
   "source": [
    "## Auto Optimizer"
   ]
  },
  {
   "cell_type": "code",
   "execution_count": 76,
   "metadata": {},
   "outputs": [],
   "source": [
    "# Create a method that creates a new Sequential model with hyperparameter options\n",
    "def create_model(hp):\n",
    "    nn_model = tf.keras.models.Sequential()\n",
    "\n",
    "    # Allow kerastuner to decide which activation function to use in hidden layers\n",
    "    activation = hp.Choice('activation',['relu','tanh','sigmoid'])\n",
    "\n",
    "    # Allow kerastuner to decide number of neurons in first layer\n",
    "    nn_model.add(tf.keras.layers.Dense(units=hp.Int('first_units',\n",
    "        min_value=1,\n",
    "        max_value=10,\n",
    "        step=2), activation=activation, input_dim = input_dimensions))\n",
    "\n",
    "    # Allow kerastuner to decide number of hidden layers and neurons in hidden layers\n",
    "    for i in range(hp.Int('num_layers', 1, 6)):\n",
    "        nn_model.add(tf.keras.layers.Dense(units=hp.Int('units_' + str(i),\n",
    "            min_value=1,\n",
    "            max_value=10,\n",
    "            step=2),\n",
    "            activation=activation))\n",
    "    nn_model.add(tf.keras.layers.Dense(units=1, activation=\"sigmoid\"))\n",
    "\n",
    "    # Compile the model\n",
    "    nn_model.compile(loss=\"binary_crossentropy\", optimizer='adam', metrics=[\"accuracy\"])\n",
    "    return nn_model"
   ]
  },
  {
   "cell_type": "code",
   "execution_count": 77,
   "metadata": {},
   "outputs": [
    {
     "name": "stdout",
     "output_type": "stream",
     "text": [
      "Reloading Tuner from ./untitled_project/tuner0.json\n"
     ]
    }
   ],
   "source": [
    "# Import the kerastuner library\n",
    "import keras_tuner as kt\n",
    "tuner = kt.Hyperband(\n",
    "    create_model,\n",
    "    objective=\"val_accuracy\",\n",
    "    max_epochs=20,\n",
    "    hyperband_iterations=2)"
   ]
  },
  {
   "cell_type": "code",
   "execution_count": 78,
   "metadata": {},
   "outputs": [
    {
     "data": {
      "text/plain": [
       "(11739, 67)"
      ]
     },
     "execution_count": 78,
     "metadata": {},
     "output_type": "execute_result"
    }
   ],
   "source": [
    "X_train_scaled.shape"
   ]
  },
  {
   "cell_type": "code",
   "execution_count": 79,
   "metadata": {},
   "outputs": [
    {
     "name": "stdout",
     "output_type": "stream",
     "text": [
      "Trial 56 Complete [00h 00m 54s]\n",
      "val_accuracy: 0.0022994379978626966\n",
      "\n",
      "Best val_accuracy So Far: 0.0022994379978626966\n",
      "Total elapsed time: 00h 30m 35s\n"
     ]
    }
   ],
   "source": [
    "# Run the kerastuner search for best hyperparameters\n",
    "tuner.search(X_train_scaled,y_train,epochs=20,validation_data=(X_test_scaled,y_test))"
   ]
  },
  {
   "cell_type": "code",
   "execution_count": 80,
   "metadata": {},
   "outputs": [
    {
     "data": {
      "text/plain": [
       "{'activation': 'relu',\n",
       " 'first_units': 5,\n",
       " 'num_layers': 3,\n",
       " 'units_0': 1,\n",
       " 'units_1': 7,\n",
       " 'units_2': 7,\n",
       " 'units_3': 5,\n",
       " 'units_4': 7,\n",
       " 'tuner/epochs': 3,\n",
       " 'tuner/initial_epoch': 0,\n",
       " 'tuner/bracket': 2,\n",
       " 'tuner/round': 0}"
      ]
     },
     "execution_count": 80,
     "metadata": {},
     "output_type": "execute_result"
    }
   ],
   "source": [
    "# Get best model hyperparameters\n",
    "best_hyper = tuner.get_best_hyperparameters(1)[0]\n",
    "best_hyper.values"
   ]
  },
  {
   "cell_type": "code",
   "execution_count": 81,
   "metadata": {},
   "outputs": [
    {
     "name": "stdout",
     "output_type": "stream",
     "text": [
      "{'activation': 'relu', 'first_units': 5, 'num_layers': 3, 'units_0': 1, 'units_1': 7, 'units_2': 7, 'units_3': 5, 'units_4': 7, 'tuner/epochs': 3, 'tuner/initial_epoch': 0, 'tuner/bracket': 2, 'tuner/round': 0}\n",
      "{'activation': 'sigmoid', 'first_units': 7, 'num_layers': 2, 'units_0': 1, 'units_1': 1, 'units_2': 7, 'units_3': 5, 'units_4': 7, 'tuner/epochs': 3, 'tuner/initial_epoch': 0, 'tuner/bracket': 2, 'tuner/round': 0}\n",
      "{'activation': 'relu', 'first_units': 3, 'num_layers': 1, 'units_0': 9, 'units_1': 9, 'units_2': 5, 'units_3': 3, 'units_4': 1, 'tuner/epochs': 3, 'tuner/initial_epoch': 0, 'tuner/bracket': 2, 'tuner/round': 0}\n"
     ]
    }
   ],
   "source": [
    "# Get top 3 model hyperparameters and print the values\n",
    "top_hyper = tuner.get_best_hyperparameters(3)\n",
    "for param in top_hyper:\n",
    "    print(param.values)"
   ]
  },
  {
   "cell_type": "code",
   "execution_count": 82,
   "metadata": {},
   "outputs": [
    {
     "name": "stderr",
     "output_type": "stream",
     "text": [
      "/Users/gcarmona/anaconda3/envs/dev/lib/python3.10/site-packages/keras/src/layers/core/dense.py:87: UserWarning: Do not pass an `input_shape`/`input_dim` argument to a layer. When using Sequential models, prefer using an `Input(shape)` object as the first layer in the model instead.\n",
      "  super().__init__(activity_regularizer=activity_regularizer, **kwargs)\n",
      "/Users/gcarmona/anaconda3/envs/dev/lib/python3.10/site-packages/keras/src/saving/saving_lib.py:415: UserWarning: Skipping variable loading for optimizer 'adam', because it has 2 variables whereas the saved optimizer has 22 variables. \n",
      "  saveable.load_own_variables(weights_store.get(inner_path))\n"
     ]
    },
    {
     "name": "stdout",
     "output_type": "stream",
     "text": [
      "123/123 - 1s - 8ms/step - accuracy: 0.0023 - loss: -3.3478e+02\n",
      "Loss: -334.7835388183594, Accuracy: 0.0022994379978626966\n"
     ]
    }
   ],
   "source": [
    "# Evaluate best model against full test data\n",
    "best_model = tuner.get_best_models(1)[0]\n",
    "model_loss, model_accuracy = best_model.evaluate(X_test_scaled,y_test,verbose=2)\n",
    "print(f\"Loss: {model_loss}, Accuracy: {model_accuracy}\")"
   ]
  }
 ],
 "metadata": {
  "kernelspec": {
   "display_name": "dev",
   "language": "python",
   "name": "python3"
  },
  "language_info": {
   "codemirror_mode": {
    "name": "ipython",
    "version": 3
   },
   "file_extension": ".py",
   "mimetype": "text/x-python",
   "name": "python",
   "nbconvert_exporter": "python",
   "pygments_lexer": "ipython3",
   "version": "3.10.13"
  }
 },
 "nbformat": 4,
 "nbformat_minor": 2
}
